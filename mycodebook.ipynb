{
  "nbformat": 4,
  "nbformat_minor": 0,
  "metadata": {
    "colab": {
      "provenance": [],
      "include_colab_link": true
    },
    "kernelspec": {
      "name": "python3",
      "display_name": "Python 3"
    },
    "language_info": {
      "name": "python"
    }
  },
  "cells": [
    {
      "cell_type": "markdown",
      "metadata": {
        "id": "view-in-github",
        "colab_type": "text"
      },
      "source": [
        "<a href=\"https://colab.research.google.com/github/MK316/classtools/blob/main/mycodebook.ipynb\" target=\"_parent\"><img src=\"https://colab.research.google.com/assets/colab-badge.svg\" alt=\"Open In Colab\"/></a>"
      ]
    },
    {
      "cell_type": "markdown",
      "source": [
        "# Codebook\n",
        "\n",
        "> [1] File handling\n",
        "\n"
      ],
      "metadata": {
        "id": "DnBueisYmn77"
      }
    },
    {
      "cell_type": "markdown",
      "source": [
        "## [1] File & folder handling"
      ],
      "metadata": {
        "id": "5clXauIUmuyK"
      }
    },
    {
      "cell_type": "markdown",
      "source": [
        "* File download"
      ],
      "metadata": {
        "id": "uYi8mqOVm4-Q"
      }
    },
    {
      "cell_type": "code",
      "execution_count": null,
      "metadata": {
        "id": "ptJU-DMBmlOr"
      },
      "outputs": [],
      "source": [
        "from google.colab import files\n",
        "files.download('/content/ESgTTS.zip')"
      ]
    },
    {
      "cell_type": "markdown",
      "source": [
        "* Current directory check"
      ],
      "metadata": {
        "id": "UhL0AwwDm7dn"
      }
    },
    {
      "cell_type": "code",
      "source": [
        "!pwd"
      ],
      "metadata": {
        "id": "nqlZnlUym_7c"
      },
      "execution_count": null,
      "outputs": []
    },
    {
      "cell_type": "markdown",
      "source": [
        "* Create a new directory"
      ],
      "metadata": {
        "id": "K5njFGAJnBCQ"
      }
    },
    {
      "cell_type": "code",
      "source": [
        "# Create a new folder (by typing a folder name)\n",
        "from IPython.utils.path import expand_path\n",
        "import os.path\n",
        "from os import path\n",
        "\n",
        "pn = input(\"Type folder name: \")\n",
        "expath = \"/content/\"+ pn\n",
        "if path.exists(expath) == False:\n",
        "  os.mkdir(expath)\n"
      ],
      "metadata": {
        "id": "EustkBi3YFfW",
        "outputId": "cad3d50c-86cc-44c2-c286-65563572d814",
        "colab": {
          "base_uri": "https://localhost:8080/"
        }
      },
      "execution_count": null,
      "outputs": [
        {
          "output_type": "stream",
          "name": "stdout",
          "text": [
            "Type folder name: ES\n",
            "/content/ES\n"
          ]
        }
      ]
    },
    {
      "cell_type": "code",
      "source": [
        "# Change directory\n",
        "os.chdir(expath)"
      ],
      "metadata": {
        "id": "ygjWpbk8nTqE"
      },
      "execution_count": null,
      "outputs": []
    },
    {
      "cell_type": "code",
      "source": [
        "# List files\n",
        "!ls"
      ],
      "metadata": {
        "id": "fv4GxhfnnPz0"
      },
      "execution_count": null,
      "outputs": []
    },
    {
      "cell_type": "code",
      "source": [
        "# List files\n",
        "!ls"
      ],
      "metadata": {
        "id": "5TVEEWn1nPq8"
      },
      "execution_count": null,
      "outputs": []
    },
    {
      "cell_type": "markdown",
      "source": [
        "Copy or Move files to a directory"
      ],
      "metadata": {
        "id": "lw6b8u7anm66"
      }
    },
    {
      "cell_type": "code",
      "source": [
        "# !cp /content/zipfilename.zip /content/filefoldername\n",
        "# !cp \"/content/ES18.wav\" \"/content/audio\"\n",
        "# !mv \"/content/ES18.zip\" \"/content/audio\""
      ],
      "metadata": {
        "id": "nN8Oa-OrnrDe"
      },
      "execution_count": null,
      "outputs": []
    },
    {
      "cell_type": "markdown",
      "source": [
        "## Google mount / unmount"
      ],
      "metadata": {
        "id": "-G36GX7iiGll"
      }
    },
    {
      "cell_type": "code",
      "source": [
        "# Google drive mount\n",
        "from google.colab import drive\n",
        "drive.mount('/content/drive')"
      ],
      "metadata": {
        "id": "nkr0qZCoiI47"
      },
      "execution_count": null,
      "outputs": []
    },
    {
      "cell_type": "code",
      "source": [
        "# Unmount drive\n",
        "drive.flush_and_unmount()"
      ],
      "metadata": {
        "id": "xLwbIKxaiJiY"
      },
      "execution_count": null,
      "outputs": []
    },
    {
      "cell_type": "code",
      "source": [
        "# File saving on google\n",
        "fn = input('file name: ')\n",
        "path = '/content/drive/My Drive/myclass/S2023/' + fn\n",
        "with open(path, 'w', encoding = 'utf-8-sig') as f:\n",
        "  df1.to_csv(f, index=False)"
      ],
      "metadata": {
        "id": "aGkggwAXiNN0"
      },
      "execution_count": null,
      "outputs": []
    },
    {
      "cell_type": "markdown",
      "source": [
        "# Audio file handling"
      ],
      "metadata": {
        "id": "zI2y-TgJBoyA"
      }
    },
    {
      "cell_type": "markdown",
      "source": [
        "## audio file type change"
      ],
      "metadata": {
        "id": "asSlhjA7Br_B"
      }
    },
    {
      "cell_type": "code",
      "source": [
        "# !pip install pydub\n",
        "from os import path\n",
        "from pydub import AudioSegment\n",
        "\n",
        "# files                                                                         \n",
        "src = \"silence.wav\"\n",
        "dst = \"silence.mp3\"\n",
        "\n",
        "# convert wav to mp3                                                            \n",
        "sound = AudioSegment.from_wav(src)\n",
        "sound.export(dst, format=\"mp3\")"
      ],
      "metadata": {
        "id": "vvvxVKLPBoVG"
      },
      "execution_count": null,
      "outputs": []
    },
    {
      "cell_type": "markdown",
      "source": [
        "# gTTS"
      ],
      "metadata": {
        "id": "r9cOhX9gC4O2"
      }
    },
    {
      "cell_type": "code",
      "source": [
        "!pip install gtts"
      ],
      "metadata": {
        "id": "SfpsAcNjC5Za",
        "outputId": "f13d497e-144e-4729-f3e5-c895eab01240",
        "colab": {
          "base_uri": "https://localhost:8080/"
        }
      },
      "execution_count": 1,
      "outputs": [
        {
          "output_type": "stream",
          "name": "stdout",
          "text": [
            "Looking in indexes: https://pypi.org/simple, https://us-python.pkg.dev/colab-wheels/public/simple/\n",
            "Collecting gtts\n",
            "  Downloading gTTS-2.3.1-py3-none-any.whl (28 kB)\n",
            "Collecting requests<3,>=2.27\n",
            "  Downloading requests-2.28.2-py3-none-any.whl (62 kB)\n",
            "\u001b[2K     \u001b[90m━━━━━━━━━━━━━━━━━━━━━━━━━━━━━━━━━━━━━━━━\u001b[0m \u001b[32m62.8/62.8 KB\u001b[0m \u001b[31m3.1 MB/s\u001b[0m eta \u001b[36m0:00:00\u001b[0m\n",
            "\u001b[?25hRequirement already satisfied: click<8.2,>=7.1 in /usr/local/lib/python3.8/dist-packages (from gtts) (7.1.2)\n",
            "Requirement already satisfied: urllib3<1.27,>=1.21.1 in /usr/local/lib/python3.8/dist-packages (from requests<3,>=2.27->gtts) (1.24.3)\n",
            "Requirement already satisfied: charset-normalizer<4,>=2 in /usr/local/lib/python3.8/dist-packages (from requests<3,>=2.27->gtts) (3.0.1)\n",
            "Requirement already satisfied: idna<4,>=2.5 in /usr/local/lib/python3.8/dist-packages (from requests<3,>=2.27->gtts) (2.10)\n",
            "Requirement already satisfied: certifi>=2017.4.17 in /usr/local/lib/python3.8/dist-packages (from requests<3,>=2.27->gtts) (2022.12.7)\n",
            "Installing collected packages: requests, gtts\n",
            "  Attempting uninstall: requests\n",
            "    Found existing installation: requests 2.25.1\n",
            "    Uninstalling requests-2.25.1:\n",
            "      Successfully uninstalled requests-2.25.1\n",
            "Successfully installed gtts-2.3.1 requests-2.28.2\n"
          ]
        }
      ]
    },
    {
      "cell_type": "code",
      "source": [
        "from gtts import gTTS\n",
        "from IPython.display import Audio\n",
        "\n",
        "tts = gTTS('Mary, Tom, and Kate.')\n",
        "tts.save('sample.mp3')\n",
        "sound_file = 'sample.mp3'\n",
        "Audio(sound_file, autoplay=True)"
      ],
      "metadata": {
        "id": "tJUOpozSDDC8",
        "outputId": "2b38ffa6-893c-488f-bc81-dd06046a75f0",
        "colab": {
          "base_uri": "https://localhost:8080/",
          "height": 74
        }
      },
      "execution_count": 2,
      "outputs": [
        {
          "output_type": "execute_result",
          "data": {
            "text/plain": [
              "<IPython.lib.display.Audio object>"
            ],
            "text/html": [
              "\n",
              "                <audio  controls=\"controls\" autoplay=\"autoplay\">\n",
              "                    <source src=\"data:audio/mpeg;base64,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\" type=\"audio/mpeg\" />\n",
              "                    Your browser does not support the audio element.\n",
              "                </audio>\n",
              "              "
            ]
          },
          "metadata": {},
          "execution_count": 2
        }
      ]
    },
    {
      "cell_type": "code",
      "source": [
        "tts = gTTS('Mary. Tom. Kate.')\n",
        "tts.save('sample.mp3')\n",
        "sound_file = 'sample.mp3'\n",
        "Audio(sound_file, autoplay=True)"
      ],
      "metadata": {
        "id": "QYC5Sm6RDXWQ",
        "outputId": "34f48462-770a-4f26-c6c3-50ccd023bde3",
        "colab": {
          "base_uri": "https://localhost:8080/",
          "height": 74
        }
      },
      "execution_count": 3,
      "outputs": [
        {
          "output_type": "execute_result",
          "data": {
            "text/plain": [
              "<IPython.lib.display.Audio object>"
            ],
            "text/html": [
              "\n",
              "                <audio  controls=\"controls\" autoplay=\"autoplay\">\n",
              "                    <source src=\"data:audio/mpeg;base64,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\" type=\"audio/mpeg\" />\n",
              "                    Your browser does not support the audio element.\n",
              "                </audio>\n",
              "              "
            ]
          },
          "metadata": {},
          "execution_count": 3
        }
      ]
    },
    {
      "cell_type": "code",
      "source": [
        "tts = gTTS('Mary? Tom? Kate?')\n",
        "tts.save('sample.mp3')\n",
        "sound_file = 'sample.mp3'\n",
        "Audio(sound_file, autoplay=True)"
      ],
      "metadata": {
        "id": "ajJmjDfHDfCk",
        "outputId": "27edcd7a-9b30-4e37-a476-42beb5545d2f",
        "colab": {
          "base_uri": "https://localhost:8080/",
          "height": 74
        }
      },
      "execution_count": 4,
      "outputs": [
        {
          "output_type": "execute_result",
          "data": {
            "text/plain": [
              "<IPython.lib.display.Audio object>"
            ],
            "text/html": [
              "\n",
              "                <audio  controls=\"controls\" autoplay=\"autoplay\">\n",
              "                    <source src=\"data:audio/mpeg;base64,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\" type=\"audio/mpeg\" />\n",
              "                    Your browser does not support the audio element.\n",
              "                </audio>\n",
              "              "
            ]
          },
          "metadata": {},
          "execution_count": 4
        }
      ]
    },
    {
      "cell_type": "markdown",
      "source": [
        "##"
      ],
      "metadata": {
        "id": "s_-gcBFqFiDb"
      }
    }
  ]
}