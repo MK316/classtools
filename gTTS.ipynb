{
  "nbformat": 4,
  "nbformat_minor": 0,
  "metadata": {
    "colab": {
      "provenance": [],
      "authorship_tag": "ABX9TyMNUmcMtMhFr1ksaXauyCqG",
      "include_colab_link": true
    },
    "kernelspec": {
      "name": "python3",
      "display_name": "Python 3"
    },
    "language_info": {
      "name": "python"
    }
  },
  "cells": [
    {
      "cell_type": "markdown",
      "metadata": {
        "id": "view-in-github",
        "colab_type": "text"
      },
      "source": [
        "<a href=\"https://colab.research.google.com/github/MK316/classtools/blob/main/gTTS.ipynb\" target=\"_parent\"><img src=\"https://colab.research.google.com/assets/colab-badge.svg\" alt=\"Open In Colab\"/></a>"
      ]
    },
    {
      "cell_type": "markdown",
      "source": [
        "# gTTS setting"
      ],
      "metadata": {
        "id": "BRctaMtIyT-x"
      }
    },
    {
      "cell_type": "markdown",
      "source": [
        "[1] Installation"
      ],
      "metadata": {
        "id": "ZP1-GwRnyY4B"
      }
    },
    {
      "cell_type": "code",
      "execution_count": 1,
      "metadata": {
        "colab": {
          "base_uri": "https://localhost:8080/"
        },
        "id": "CMYToqAUdU_Y",
        "outputId": "2643248e-a7b2-48bb-908f-ce4e8aae8fb1"
      },
      "outputs": [
        {
          "output_type": "stream",
          "name": "stdout",
          "text": [
            "Looking in indexes: https://pypi.org/simple, https://us-python.pkg.dev/colab-wheels/public/simple/\n",
            "Collecting gtts\n",
            "  Downloading gTTS-2.3.1-py3-none-any.whl (28 kB)\n",
            "Requirement already satisfied: click<8.2,>=7.1 in /usr/local/lib/python3.9/dist-packages (from gtts) (8.1.3)\n",
            "Requirement already satisfied: requests<3,>=2.27 in /usr/local/lib/python3.9/dist-packages (from gtts) (2.27.1)\n",
            "Requirement already satisfied: certifi>=2017.4.17 in /usr/local/lib/python3.9/dist-packages (from requests<3,>=2.27->gtts) (2022.12.7)\n",
            "Requirement already satisfied: idna<4,>=2.5 in /usr/local/lib/python3.9/dist-packages (from requests<3,>=2.27->gtts) (3.4)\n",
            "Requirement already satisfied: charset-normalizer~=2.0.0 in /usr/local/lib/python3.9/dist-packages (from requests<3,>=2.27->gtts) (2.0.12)\n",
            "Requirement already satisfied: urllib3<1.27,>=1.21.1 in /usr/local/lib/python3.9/dist-packages (from requests<3,>=2.27->gtts) (1.26.15)\n",
            "Installing collected packages: gtts\n",
            "Successfully installed gtts-2.3.1\n"
          ]
        }
      ],
      "source": [
        "!pip install gtts\n",
        "from gtts import gTTS\n",
        "from IPython.display import Audio, display"
      ]
    },
    {
      "cell_type": "markdown",
      "source": [
        "[2] Define a function: tts(text)"
      ],
      "metadata": {
        "id": "2xpvxt6gybuH"
      }
    },
    {
      "cell_type": "code",
      "source": [
        "def tts(txt):\n",
        "  tts = gTTS(txt, lang='en')\n",
        "  tts.save(\"sample.mp3\")\n",
        "  return Audio(\"/content/sample.mp3\")\n"
      ],
      "metadata": {
        "id": "p_cqMaS7dkKk"
      },
      "execution_count": null,
      "outputs": []
    },
    {
      "cell_type": "markdown",
      "source": [
        "[3] Getting text and generate speech (audio file)"
      ],
      "metadata": {
        "id": "-2JYqhhPyg0T"
      }
    },
    {
      "cell_type": "code",
      "source": [
        "mytext = input(\"Type text: \")\n",
        "tts(mytext)"
      ],
      "metadata": {
        "colab": {
          "base_uri": "https://localhost:8080/",
          "height": 93
        },
        "id": "qYbCtWlUd73S",
        "outputId": "0062bd31-33fb-4589-b555-fb18b88f458f"
      },
      "execution_count": null,
      "outputs": [
        {
          "name": "stdout",
          "output_type": "stream",
          "text": [
            "Type text: hello, this is a test.\n"
          ]
        },
        {
          "output_type": "execute_result",
          "data": {
            "text/plain": [
              "<IPython.lib.display.Audio object>"
            ],
            "text/html": [
              "\n",
              "                <audio  controls=\"controls\" >\n",
              "                    <source src=\"data:audio/mpeg;base64,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\" type=\"audio/mpeg\" />\n",
              "                    Your browser does not support the audio element.\n",
              "                </audio>\n",
              "              "
            ]
          },
          "metadata": {},
          "execution_count": 7
        }
      ]
    },
    {
      "cell_type": "markdown",
      "source": [
        "Multi language options"
      ],
      "metadata": {
        "id": "uerP87-ZkvS0"
      }
    },
    {
      "cell_type": "code",
      "source": [
        "#@markdown 🔄 Making functions: etts('text'), ktts('text'), ftts('text'), stts('text')\n",
        "%%capture\n",
        "!pip install gTTS\n",
        "from gtts import gTTS\n",
        "from IPython.display import Audio\n",
        "\n",
        "def etts(text):\n",
        "  text_to_say = text\n",
        "\n",
        "  gtts_object = gTTS(text = text_to_say,\n",
        "                     lang = \"en\", tld = \"us\",\n",
        "                    slow = True)\n",
        "  \n",
        "  gtts_object.save(\"E-audio.mp3\")\n",
        "  return Audio(\"E-audio.mp3\")\n",
        "\n",
        "def ktts(text):\n",
        "  text_to_say = text\n",
        "\n",
        "  gtts_object = gTTS(text = text_to_say,\n",
        "                     lang = \"ko\",\n",
        "                    slow = False)\n",
        "  gtts_object.save(\"K-audio.mp3\")\n",
        "  return Audio(\"E-audio.mp3\")\n",
        "\n",
        "def ftts(text):\n",
        "  text_to_say = text\n",
        "\n",
        "  gtts_object = gTTS(text = text_to_say,\n",
        "                     lang = \"fr\",\n",
        "                    slow = False)\n",
        "  gtts_object.save(\"F-audio.mp3\")\n",
        "  return Audio(\"E-audio.mp3\")\n",
        "\n",
        "def stts(text):\n",
        "  text_to_say = text\n",
        "\n",
        "  gtts_object = gTTS(text = text_to_say,\n",
        "                     lang = \"es\",\n",
        "                    slow = False)\n",
        "\n",
        "  gtts_object.save(\"S-audio.mp3\")\n",
        "  return Audio(\"S-audio.mp3\")"
      ],
      "metadata": {
        "cellView": "form",
        "id": "POEw0ykPkxU6"
      },
      "execution_count": 8,
      "outputs": []
    },
    {
      "cell_type": "code",
      "source": [
        "language = \"fr\" #@param = [\"en\", \"ko\", \"fr\", \"es\"]\n",
        "\n",
        "mytxt = input(\"Type text to generate audio: \")\n",
        "\n",
        "if language == \"en\":\n",
        "  etts(mytxt)\n",
        "  file = \"E-audio.mp3\"\n",
        "elif language == \"ko\":\n",
        "  ktts(mytxt)\n",
        "  file = \"K-audio.mp3\"\n",
        "elif language == \"fr\":\n",
        "  ftts(mytxt)\n",
        "  file = \"F-audio.mp3\"\n",
        "elif language == \"es\":\n",
        "  stts(mytxt)\n",
        "  file = \"S-audio.mp3\"\n",
        "\n",
        "\n",
        "Audio(file)"
      ],
      "metadata": {
        "cellView": "form",
        "colab": {
          "base_uri": "https://localhost:8080/",
          "height": 92
        },
        "id": "5yQsLIZmlzA7",
        "outputId": "a1387353-48cb-43a3-90c4-f95835c9094e"
      },
      "execution_count": 17,
      "outputs": [
        {
          "name": "stdout",
          "output_type": "stream",
          "text": [
            "Type text to generate audio: fleur\n"
          ]
        },
        {
          "output_type": "execute_result",
          "data": {
            "text/plain": [
              "<IPython.lib.display.Audio object>"
            ],
            "text/html": [
              "\n",
              "                <audio  controls=\"controls\" >\n",
              "                    <source src=\"data:audio/mpeg;base64,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\" type=\"audio/mpeg\" />\n",
              "                    Your browser does not support the audio element.\n",
              "                </audio>\n",
              "              "
            ]
          },
          "metadata": {},
          "execution_count": 17
        }
      ]
    }
  ]
}