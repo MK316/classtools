{
  "nbformat": 4,
  "nbformat_minor": 0,
  "metadata": {
    "colab": {
      "provenance": [],
      "authorship_tag": "ABX9TyNzl82NQWDPV51PpW3JA3RP",
      "include_colab_link": true
    },
    "kernelspec": {
      "name": "python3",
      "display_name": "Python 3"
    },
    "language_info": {
      "name": "python"
    }
  },
  "cells": [
    {
      "cell_type": "markdown",
      "metadata": {
        "id": "view-in-github",
        "colab_type": "text"
      },
      "source": [
        "<a href=\"https://colab.research.google.com/github/MK316/classtools/blob/main/currTime.ipynb\" target=\"_parent\"><img src=\"https://colab.research.google.com/assets/colab-badge.svg\" alt=\"Open In Colab\"/></a>"
      ]
    },
    {
      "cell_type": "code",
      "execution_count": 3,
      "metadata": {
        "id": "FWTlPwhcIbFe"
      },
      "outputs": [],
      "source": [
        "import datetime\n",
        "import pytz"
      ]
    },
    {
      "cell_type": "markdown",
      "source": [
        "<style>\n",
        "/* Set the font size of the output to 16px */\n",
        ".output {\n",
        "  font-size: 16px;\n",
        "}\n",
        "</style>"
      ],
      "metadata": {
        "id": "f1tUuvU_JQM1"
      }
    },
    {
      "cell_type": "code",
      "source": [
        "seoul_timezone = pytz.timezone('Asia/Seoul')\n",
        "now = datetime.datetime.now(seoul_timezone)\n",
        "print(\"Current time in Seoul: \", now.strftime(\"%H:%M:%S\"))\n"
      ],
      "metadata": {
        "colab": {
          "base_uri": "https://localhost:8080/"
        },
        "id": "CIbTPnCgItk3",
        "outputId": "93036588-2a9d-4080-d1cc-47a2b9bb135f"
      },
      "execution_count": 7,
      "outputs": [
        {
          "output_type": "stream",
          "name": "stdout",
          "text": [
            "Current time in Seoul:  15:11:53\n"
          ]
        }
      ]
    },
    {
      "cell_type": "code",
      "source": [
        "import datetime\n",
        "import pytz\n",
        "from IPython.display import HTML, display\n",
        "\n",
        "seoul_timezone = pytz.timezone('Asia/Seoul')\n",
        "now = datetime.datetime.now(seoul_timezone)\n",
        "\n",
        "output = f\"<div style='font-size: 32px;'>Current time in Seoul: {now.strftime('%H:%M:%S')}</div>\"\n",
        "display(HTML(output))\n"
      ],
      "metadata": {
        "colab": {
          "base_uri": "https://localhost:8080/",
          "height": 57
        },
        "id": "p0Jj6PoLJ5WZ",
        "outputId": "dc792511-d287-40b3-9422-832e0adbf6da"
      },
      "execution_count": 9,
      "outputs": [
        {
          "output_type": "display_data",
          "data": {
            "text/plain": [
              "<IPython.core.display.HTML object>"
            ],
            "text/html": [
              "<div style='font-size: 32px;'>Current time in Seoul: 15:14:01</div>"
            ]
          },
          "metadata": {}
        }
      ]
    },
    {
      "cell_type": "code",
      "source": [],
      "metadata": {
        "id": "VAQhfS6pI6SN"
      },
      "execution_count": 6,
      "outputs": []
    }
  ]
}