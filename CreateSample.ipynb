{
  "nbformat": 4,
  "nbformat_minor": 0,
  "metadata": {
    "colab": {
      "provenance": [],
      "authorship_tag": "ABX9TyMs1LrCxH/3C6ykAXT8xSUg",
      "include_colab_link": true
    },
    "kernelspec": {
      "name": "python3",
      "display_name": "Python 3"
    },
    "language_info": {
      "name": "python"
    }
  },
  "cells": [
    {
      "cell_type": "markdown",
      "metadata": {
        "id": "view-in-github",
        "colab_type": "text"
      },
      "source": [
        "<a href=\"https://colab.research.google.com/github/MK316/classtools/blob/main/CreateSample.ipynb\" target=\"_parent\"><img src=\"https://colab.research.google.com/assets/colab-badge.svg\" alt=\"Open In Colab\"/></a>"
      ]
    },
    {
      "cell_type": "markdown",
      "source": [
        "# Sample data creation"
      ],
      "metadata": {
        "id": "butEVMNTrx9l"
      }
    },
    {
      "cell_type": "code",
      "execution_count": 1,
      "metadata": {
        "id": "2tbdCn0NrxLo"
      },
      "outputs": [],
      "source": [
        "import pandas as pd\n",
        "import numpy as np\n",
        "import random"
      ]
    },
    {
      "cell_type": "code",
      "source": [
        "# Create sample\n",
        "\n",
        "mean = 76.2\n",
        "sd = 23.8\n",
        "samples = 30\n",
        "sample = np.random.normal(mean, stdd, samples)\n",
        "\n",
        "print(sample)\n",
        "type(sample)"
      ],
      "metadata": {
        "colab": {
          "base_uri": "https://localhost:8080/"
        },
        "id": "Ghmdb0STr9r3",
        "outputId": "4927fffd-24f8-457e-cc05-a61691b16be0"
      },
      "execution_count": 24,
      "outputs": [
        {
          "output_type": "stream",
          "name": "stdout",
          "text": [
            "[ 84.75038333  99.61136171 108.38763398  63.89442907  90.41876493\n",
            "  87.18760473  98.51076712  45.98418062  37.07263117 100.67510038\n",
            "  96.80166534  90.17801363  53.34503511  86.11141222  78.19803231\n",
            "  70.40012251  85.55878145  61.3774365   72.94317864  34.89591714\n",
            "  81.96848195  99.03301129  79.14442402  62.48032716  91.22768384\n",
            "  90.53529257  70.46758476  66.52065002  55.5534403   90.31878961]\n"
          ]
        },
        {
          "output_type": "execute_result",
          "data": {
            "text/plain": [
              "numpy.ndarray"
            ]
          },
          "metadata": {},
          "execution_count": 24
        }
      ]
    },
    {
      "cell_type": "code",
      "source": [
        "d1 = pd.DataFrame()\n",
        "d1['Grade'] = sample\n",
        "d1"
      ],
      "metadata": {
        "id": "yprZJJahAwOw"
      },
      "execution_count": null,
      "outputs": []
    },
    {
      "cell_type": "code",
      "source": [
        "#@markdown Create sample (list) with mean, sd: data name ('sample')\n",
        "\n",
        "m = input(\"Mean: \")\n",
        "s = input(\"Standard Deviation: \")\n",
        "n = input(\"Sample: \")\n",
        "mean = float(m)\n",
        "stdd = float(s)\n",
        "samples = int(n)\n",
        "\n",
        "sample = np.random.normal(mean, stdd, samples)\n",
        "sample = [round(sam,1) for sam in sample]\n",
        "print(sample)"
      ],
      "metadata": {
        "colab": {
          "base_uri": "https://localhost:8080/"
        },
        "cellView": "form",
        "id": "_l6OsRwO33un",
        "outputId": "b06008ec-abb1-4cbb-cc16-0a590b2c814e"
      },
      "execution_count": 21,
      "outputs": [
        {
          "output_type": "stream",
          "name": "stdout",
          "text": [
            "Mean: 76\n",
            "Standard Deviation: 21\n",
            "Sample: 20\n",
            "[111.3, 57.2, 78.0, 69.3, 76.7, 70.3, 54.5, 84.0, 66.7, 100.3, 64.2, 85.4, 56.1, 67.8, 69.0, 85.3, 90.4, 65.3, 84.9, 103.5]\n"
          ]
        }
      ]
    },
    {
      "cell_type": "markdown",
      "source": [
        "You can create a dataframe with numpy.nparray\n",
        "However, the following is a way to change numpy.npaprray to a list"
      ],
      "metadata": {
        "id": "aKDKWlhUC3f4"
      }
    },
    {
      "cell_type": "code",
      "source": [
        "# Data type convert: numpy.ndarray to list\n",
        "sample = sample.tolist()"
      ],
      "metadata": {
        "id": "vk_Q7-Ao5Vyp"
      },
      "execution_count": 18,
      "outputs": []
    },
    {
      "cell_type": "markdown",
      "source": [
        "The following code will take a column name and save 'sample' data as its value (additive)"
      ],
      "metadata": {
        "id": "NcoVG9hLDqcF"
      }
    },
    {
      "cell_type": "code",
      "source": [
        "#@markdown 📌📌 Step [1] Run this only once\n",
        "sn = input(\"How many items in columns: \")\n",
        "sn = int(sn)\n",
        "data = pd.DataFrame()"
      ],
      "metadata": {
        "colab": {
          "base_uri": "https://localhost:8080/"
        },
        "cellView": "form",
        "id": "mCLUUu65FbSE",
        "outputId": "71af0d5c-7374-44a7-8fc8-65b62b373b69"
      },
      "execution_count": 58,
      "outputs": [
        {
          "name": "stdout",
          "output_type": "stream",
          "text": [
            "How many items in columns: 30\n"
          ]
        }
      ]
    },
    {
      "cell_type": "code",
      "source": [
        "#@markdown Step [2] Create sample (list) with mean, sd: data name ('sample')\n",
        "\n",
        "m = input(\"Mean: \")\n",
        "s = input(\"Standard Deviation: \")\n",
        "mean = float(m)\n",
        "stdd = float(s)\n",
        "\n",
        "# mean, stdd, samples = 56, 12, 10\n",
        "sample = np.random.normal(mean, stdd, sn+20)\n",
        "sample_range = (sample >= 0) & (sample <= 100)\n",
        "sample = sample[sample_range]\n",
        "sample = np.random.choice(sample, sn)\n",
        "\n",
        "sample = [round(sam,1) for sam in sample]\n",
        "print(sample)\n",
        "len(sample)"
      ],
      "metadata": {
        "colab": {
          "base_uri": "https://localhost:8080/"
        },
        "outputId": "1b83e119-a2bb-43c5-c6bb-c83aef2b27c9",
        "cellView": "form",
        "id": "aZbIL8m9G72Q"
      },
      "execution_count": 81,
      "outputs": [
        {
          "output_type": "stream",
          "name": "stdout",
          "text": [
            "Mean: 65\n",
            "Standard Deviation: 12.5\n",
            "[69.5, 25.4, 62.1, 69.5, 60.2, 53.5, 74.0, 25.4, 74.4, 84.1, 63.8, 54.2, 66.8, 44.8, 63.8, 25.4, 52.7, 67.2, 63.8, 59.2, 63.3, 64.6, 74.1, 59.2, 76.2, 60.3, 60.2, 66.2, 50.0, 25.4]\n"
          ]
        },
        {
          "output_type": "execute_result",
          "data": {
            "text/plain": [
              "30"
            ]
          },
          "metadata": {},
          "execution_count": 81
        }
      ]
    },
    {
      "cell_type": "code",
      "source": [
        "#@markdown Step [3] Dataframe\n",
        "\n",
        "newdata = input(\"Create a new dataframe or add a column? (e.g., new or add)\")\n",
        "colname = input(\"Column name for sample data: \")\n",
        "\n",
        "if newdata == \"new\":\n",
        "  df1 = pd.DataFrame()\n",
        "  df1[colname] = sample\n",
        "  data = df1\n",
        "  print(df1)\n",
        "elif newdata == \"add\":\n",
        "  data[colname] = sample\n",
        "  print(data)"
      ],
      "metadata": {
        "colab": {
          "base_uri": "https://localhost:8080/"
        },
        "cellView": "form",
        "id": "t9N6-bO79zrB",
        "outputId": "7f571a05-c700-42e0-e1b9-51ff75040ce6"
      },
      "execution_count": 71,
      "outputs": [
        {
          "output_type": "stream",
          "name": "stdout",
          "text": [
            "Create a new dataframe or add a column? (e.g., new or add)add\n",
            "Column name for sample data: soc\n",
            "     Ko   En  soc\n",
            "0   0.0  0.2  0.2\n",
            "1   0.5  0.8  0.8\n",
            "2   0.6  1.0  1.0\n",
            "3   0.1  0.9  0.9\n",
            "4   1.0  0.8  0.8\n",
            "5   0.8  0.1  0.1\n",
            "6   0.3  0.8  0.8\n",
            "7   0.6  0.9  0.9\n",
            "8   1.0  0.6  0.6\n",
            "9   0.6  0.5  0.5\n",
            "10  0.5  0.3  0.3\n",
            "11  0.1  0.3  0.3\n",
            "12  0.7  0.1  0.1\n",
            "13  0.9  0.2  0.2\n",
            "14  0.9  0.2  0.2\n",
            "15  0.4  0.8  0.8\n",
            "16  0.9  0.4  0.4\n",
            "17  0.0  0.6  0.6\n",
            "18  0.1  0.6  0.6\n",
            "19  0.1  0.6  0.6\n",
            "20  0.7  0.6  0.6\n",
            "21  0.6  0.6  0.6\n",
            "22  0.2  0.6  0.6\n",
            "23  0.9  0.9  0.9\n",
            "24  0.0  0.6  0.6\n",
            "25  0.2  0.8  0.8\n",
            "26  0.0  0.6  0.6\n",
            "27  0.4  0.1  0.1\n",
            "28  0.9  0.2  0.2\n",
            "29  0.1  0.3  0.3\n"
          ]
        }
      ]
    },
    {
      "cell_type": "code",
      "source": [
        "data"
      ],
      "metadata": {
        "colab": {
          "base_uri": "https://localhost:8080/",
          "height": 990
        },
        "id": "nRhglRB3919x",
        "outputId": "356fb731-8e1a-463e-b68f-e15738aa110e"
      },
      "execution_count": 39,
      "outputs": [
        {
          "output_type": "execute_result",
          "data": {
            "text/plain": [
              "     Math\n",
              "0   100.2\n",
              "1    90.4\n",
              "2    59.7\n",
              "3    61.3\n",
              "4    52.2\n",
              "5    46.9\n",
              "6    21.1\n",
              "7    84.2\n",
              "8    52.4\n",
              "9    26.6\n",
              "10   47.5\n",
              "11   90.7\n",
              "12   69.5\n",
              "13   66.7\n",
              "14   62.7\n",
              "15   68.0\n",
              "16   77.9\n",
              "17   49.8\n",
              "18   15.5\n",
              "19   30.4\n",
              "20   63.7\n",
              "21   65.7\n",
              "22   81.4\n",
              "23   62.1\n",
              "24   62.2\n",
              "25   82.9\n",
              "26   31.4\n",
              "27   52.0\n",
              "28  106.1\n",
              "29   74.2"
            ],
            "text/html": [
              "\n",
              "  <div id=\"df-9052e966-5ac1-440f-8056-e470d24eabac\">\n",
              "    <div class=\"colab-df-container\">\n",
              "      <div>\n",
              "<style scoped>\n",
              "    .dataframe tbody tr th:only-of-type {\n",
              "        vertical-align: middle;\n",
              "    }\n",
              "\n",
              "    .dataframe tbody tr th {\n",
              "        vertical-align: top;\n",
              "    }\n",
              "\n",
              "    .dataframe thead th {\n",
              "        text-align: right;\n",
              "    }\n",
              "</style>\n",
              "<table border=\"1\" class=\"dataframe\">\n",
              "  <thead>\n",
              "    <tr style=\"text-align: right;\">\n",
              "      <th></th>\n",
              "      <th>Math</th>\n",
              "    </tr>\n",
              "  </thead>\n",
              "  <tbody>\n",
              "    <tr>\n",
              "      <th>0</th>\n",
              "      <td>100.2</td>\n",
              "    </tr>\n",
              "    <tr>\n",
              "      <th>1</th>\n",
              "      <td>90.4</td>\n",
              "    </tr>\n",
              "    <tr>\n",
              "      <th>2</th>\n",
              "      <td>59.7</td>\n",
              "    </tr>\n",
              "    <tr>\n",
              "      <th>3</th>\n",
              "      <td>61.3</td>\n",
              "    </tr>\n",
              "    <tr>\n",
              "      <th>4</th>\n",
              "      <td>52.2</td>\n",
              "    </tr>\n",
              "    <tr>\n",
              "      <th>5</th>\n",
              "      <td>46.9</td>\n",
              "    </tr>\n",
              "    <tr>\n",
              "      <th>6</th>\n",
              "      <td>21.1</td>\n",
              "    </tr>\n",
              "    <tr>\n",
              "      <th>7</th>\n",
              "      <td>84.2</td>\n",
              "    </tr>\n",
              "    <tr>\n",
              "      <th>8</th>\n",
              "      <td>52.4</td>\n",
              "    </tr>\n",
              "    <tr>\n",
              "      <th>9</th>\n",
              "      <td>26.6</td>\n",
              "    </tr>\n",
              "    <tr>\n",
              "      <th>10</th>\n",
              "      <td>47.5</td>\n",
              "    </tr>\n",
              "    <tr>\n",
              "      <th>11</th>\n",
              "      <td>90.7</td>\n",
              "    </tr>\n",
              "    <tr>\n",
              "      <th>12</th>\n",
              "      <td>69.5</td>\n",
              "    </tr>\n",
              "    <tr>\n",
              "      <th>13</th>\n",
              "      <td>66.7</td>\n",
              "    </tr>\n",
              "    <tr>\n",
              "      <th>14</th>\n",
              "      <td>62.7</td>\n",
              "    </tr>\n",
              "    <tr>\n",
              "      <th>15</th>\n",
              "      <td>68.0</td>\n",
              "    </tr>\n",
              "    <tr>\n",
              "      <th>16</th>\n",
              "      <td>77.9</td>\n",
              "    </tr>\n",
              "    <tr>\n",
              "      <th>17</th>\n",
              "      <td>49.8</td>\n",
              "    </tr>\n",
              "    <tr>\n",
              "      <th>18</th>\n",
              "      <td>15.5</td>\n",
              "    </tr>\n",
              "    <tr>\n",
              "      <th>19</th>\n",
              "      <td>30.4</td>\n",
              "    </tr>\n",
              "    <tr>\n",
              "      <th>20</th>\n",
              "      <td>63.7</td>\n",
              "    </tr>\n",
              "    <tr>\n",
              "      <th>21</th>\n",
              "      <td>65.7</td>\n",
              "    </tr>\n",
              "    <tr>\n",
              "      <th>22</th>\n",
              "      <td>81.4</td>\n",
              "    </tr>\n",
              "    <tr>\n",
              "      <th>23</th>\n",
              "      <td>62.1</td>\n",
              "    </tr>\n",
              "    <tr>\n",
              "      <th>24</th>\n",
              "      <td>62.2</td>\n",
              "    </tr>\n",
              "    <tr>\n",
              "      <th>25</th>\n",
              "      <td>82.9</td>\n",
              "    </tr>\n",
              "    <tr>\n",
              "      <th>26</th>\n",
              "      <td>31.4</td>\n",
              "    </tr>\n",
              "    <tr>\n",
              "      <th>27</th>\n",
              "      <td>52.0</td>\n",
              "    </tr>\n",
              "    <tr>\n",
              "      <th>28</th>\n",
              "      <td>106.1</td>\n",
              "    </tr>\n",
              "    <tr>\n",
              "      <th>29</th>\n",
              "      <td>74.2</td>\n",
              "    </tr>\n",
              "  </tbody>\n",
              "</table>\n",
              "</div>\n",
              "      <button class=\"colab-df-convert\" onclick=\"convertToInteractive('df-9052e966-5ac1-440f-8056-e470d24eabac')\"\n",
              "              title=\"Convert this dataframe to an interactive table.\"\n",
              "              style=\"display:none;\">\n",
              "        \n",
              "  <svg xmlns=\"http://www.w3.org/2000/svg\" height=\"24px\"viewBox=\"0 0 24 24\"\n",
              "       width=\"24px\">\n",
              "    <path d=\"M0 0h24v24H0V0z\" fill=\"none\"/>\n",
              "    <path d=\"M18.56 5.44l.94 2.06.94-2.06 2.06-.94-2.06-.94-.94-2.06-.94 2.06-2.06.94zm-11 1L8.5 8.5l.94-2.06 2.06-.94-2.06-.94L8.5 2.5l-.94 2.06-2.06.94zm10 10l.94 2.06.94-2.06 2.06-.94-2.06-.94-.94-2.06-.94 2.06-2.06.94z\"/><path d=\"M17.41 7.96l-1.37-1.37c-.4-.4-.92-.59-1.43-.59-.52 0-1.04.2-1.43.59L10.3 9.45l-7.72 7.72c-.78.78-.78 2.05 0 2.83L4 21.41c.39.39.9.59 1.41.59.51 0 1.02-.2 1.41-.59l7.78-7.78 2.81-2.81c.8-.78.8-2.07 0-2.86zM5.41 20L4 18.59l7.72-7.72 1.47 1.35L5.41 20z\"/>\n",
              "  </svg>\n",
              "      </button>\n",
              "      \n",
              "  <style>\n",
              "    .colab-df-container {\n",
              "      display:flex;\n",
              "      flex-wrap:wrap;\n",
              "      gap: 12px;\n",
              "    }\n",
              "\n",
              "    .colab-df-convert {\n",
              "      background-color: #E8F0FE;\n",
              "      border: none;\n",
              "      border-radius: 50%;\n",
              "      cursor: pointer;\n",
              "      display: none;\n",
              "      fill: #1967D2;\n",
              "      height: 32px;\n",
              "      padding: 0 0 0 0;\n",
              "      width: 32px;\n",
              "    }\n",
              "\n",
              "    .colab-df-convert:hover {\n",
              "      background-color: #E2EBFA;\n",
              "      box-shadow: 0px 1px 2px rgba(60, 64, 67, 0.3), 0px 1px 3px 1px rgba(60, 64, 67, 0.15);\n",
              "      fill: #174EA6;\n",
              "    }\n",
              "\n",
              "    [theme=dark] .colab-df-convert {\n",
              "      background-color: #3B4455;\n",
              "      fill: #D2E3FC;\n",
              "    }\n",
              "\n",
              "    [theme=dark] .colab-df-convert:hover {\n",
              "      background-color: #434B5C;\n",
              "      box-shadow: 0px 1px 3px 1px rgba(0, 0, 0, 0.15);\n",
              "      filter: drop-shadow(0px 1px 2px rgba(0, 0, 0, 0.3));\n",
              "      fill: #FFFFFF;\n",
              "    }\n",
              "  </style>\n",
              "\n",
              "      <script>\n",
              "        const buttonEl =\n",
              "          document.querySelector('#df-9052e966-5ac1-440f-8056-e470d24eabac button.colab-df-convert');\n",
              "        buttonEl.style.display =\n",
              "          google.colab.kernel.accessAllowed ? 'block' : 'none';\n",
              "\n",
              "        async function convertToInteractive(key) {\n",
              "          const element = document.querySelector('#df-9052e966-5ac1-440f-8056-e470d24eabac');\n",
              "          const dataTable =\n",
              "            await google.colab.kernel.invokeFunction('convertToInteractive',\n",
              "                                                     [key], {});\n",
              "          if (!dataTable) return;\n",
              "\n",
              "          const docLinkHtml = 'Like what you see? Visit the ' +\n",
              "            '<a target=\"_blank\" href=https://colab.research.google.com/notebooks/data_table.ipynb>data table notebook</a>'\n",
              "            + ' to learn more about interactive tables.';\n",
              "          element.innerHTML = '';\n",
              "          dataTable['output_type'] = 'display_data';\n",
              "          await google.colab.output.renderOutput(dataTable, element);\n",
              "          const docLink = document.createElement('div');\n",
              "          docLink.innerHTML = docLinkHtml;\n",
              "          element.appendChild(docLink);\n",
              "        }\n",
              "      </script>\n",
              "    </div>\n",
              "  </div>\n",
              "  "
            ]
          },
          "metadata": {},
          "execution_count": 39
        }
      ]
    },
    {
      "cell_type": "code",
      "source": [],
      "metadata": {
        "id": "w_Cyyz8V9wjw"
      },
      "execution_count": null,
      "outputs": []
    }
  ]
}