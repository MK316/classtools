{
  "nbformat": 4,
  "nbformat_minor": 0,
  "metadata": {
    "colab": {
      "provenance": [],
      "authorship_tag": "ABX9TyPYaczQr8fW6+zDnWpj+CtL",
      "include_colab_link": true
    },
    "kernelspec": {
      "name": "python3",
      "display_name": "Python 3"
    },
    "language_info": {
      "name": "python"
    }
  },
  "cells": [
    {
      "cell_type": "markdown",
      "metadata": {
        "id": "view-in-github",
        "colab_type": "text"
      },
      "source": [
        "<a href=\"https://colab.research.google.com/github/MK316/classtools/blob/main/random_grouping.ipynb\" target=\"_parent\"><img src=\"https://colab.research.google.com/assets/colab-badge.svg\" alt=\"Open In Colab\"/></a>"
      ]
    },
    {
      "cell_type": "markdown",
      "source": [
        "# 💦 Random grouping for class activities"
      ],
      "metadata": {
        "id": "F3QQ0eR3SZ3q"
      }
    },
    {
      "cell_type": "markdown",
      "source": [
        "---\n",
        "+ Getting ready: You need a csv file, which contains a column \"Names\"\n",
        "+ Read a csv file (url) > random grouping with specific size (you choose) > save the grouping result as a file\n",
        "\n",
        "📌 **Note** If you see both heading 2A and 2B, choose only one of them to follow.\n",
        "\n",
        "---"
      ],
      "metadata": {
        "id": "2Dh8E5qlRIdX"
      }
    },
    {
      "cell_type": "markdown",
      "source": [
        "# ▶️ [1] Import packages, read a file \n",
        "\n",
        "Note: Column name as \"Names\""
      ],
      "metadata": {
        "id": "ajpiGmadguiU"
      }
    },
    {
      "cell_type": "code",
      "execution_count": null,
      "metadata": {
        "cellView": "form",
        "id": "iviYFSipSX6U"
      },
      "outputs": [],
      "source": [
        "#@markdown Import packages\n",
        "import pandas as pd\n",
        "import numpy as np\n",
        "import random"
      ]
    },
    {
      "cell_type": "markdown",
      "source": [
        "attendance sample\" https://raw.githubusercontent.com/MK316/Teachingapps/main/data/DL_att_sample.csv  \n",
        "sample: https://raw.githubusercontent.com/MK316/Spring2023/main/data/att_sample.csv"
      ],
      "metadata": {
        "id": "RGeN-v78gY6O"
      }
    },
    {
      "cell_type": "markdown",
      "source": [
        "# ▶️ [2] Read a csv file"
      ],
      "metadata": {
        "id": "T6PLfkU5TO1u"
      }
    },
    {
      "cell_type": "markdown",
      "source": [
        "## [2A] Read a csv file from url"
      ],
      "metadata": {
        "id": "pyPGGaGdRu-K"
      }
    },
    {
      "cell_type": "code",
      "source": [
        "#@markdown Read attendance list (pop-up), define grouping(l, n)\n",
        "url = input()\n",
        "df = pd.read_csv(url)\n",
        "attlist = df.Names.values.tolist()\n",
        "\n",
        "def grouping(l, n):\n",
        "    for i in range(0, len(l), n):\n",
        "        yield l[i:i + n]"
      ],
      "metadata": {
        "colab": {
          "base_uri": "https://localhost:8080/"
        },
        "id": "PCge7yTLYjko",
        "outputId": "87be11cb-2289-4824-c13b-591c393b4952"
      },
      "execution_count": null,
      "outputs": [
        {
          "name": "stdout",
          "output_type": "stream",
          "text": [
            "https://raw.githubusercontent.com/MK316/Teachingapps/main/data/DL_att_sample.csv\n"
          ]
        }
      ]
    },
    {
      "cell_type": "markdown",
      "source": [
        "## [2B] Read a csv file by uploading"
      ],
      "metadata": {
        "id": "ttMVhUGsSDKu"
      }
    },
    {
      "cell_type": "code",
      "source": [
        "from google.colab import files\n",
        "\n",
        "uploaded = files.upload()"
      ],
      "metadata": {
        "id": "I67gwS7WTgKN"
      },
      "execution_count": null,
      "outputs": []
    },
    {
      "cell_type": "markdown",
      "source": [
        "You need to specify the file name below"
      ],
      "metadata": {
        "id": "N-ZQMju2Ukzb"
      }
    },
    {
      "cell_type": "code",
      "source": [
        "import io\n",
        "import pandas as pd\n",
        "df = pd.read_csv(io.BytesIO(uploaded['DL_att_sample.csv'])) # file name here\n",
        "df.head()"
      ],
      "metadata": {
        "id": "eG7qq_mSUSqS"
      },
      "execution_count": null,
      "outputs": []
    },
    {
      "cell_type": "markdown",
      "source": [
        "# ▶️ [3] Randon grouping"
      ],
      "metadata": {
        "id": "S1vS4DXATVI2"
      }
    },
    {
      "cell_type": "markdown",
      "source": [
        "## [3A] Random grouping"
      ],
      "metadata": {
        "id": "i9LSE4qzg9al"
      }
    },
    {
      "cell_type": "code",
      "source": [
        "#@markdown 🌀 Random grouping of size \"n\"\n",
        "random.shuffle(attlist)\n",
        "\n",
        "gsize = input(\"Size of each group: \")\n",
        "gs = int(gsize)\n",
        "\n",
        "mylist = list(grouping(attlist, gs))\n",
        "ngroups = len(list(grouping(attlist, gs)))\n",
        "\n",
        "print(mylist)\n",
        "print(\"=\"*50)\n",
        "print(\"Number of groups: %d in total.\"%ngroups)\n",
        "\n",
        "gn = ngroups\n",
        "gname = []\n",
        "df1 = pd.DataFrame()\n",
        "for i in range(0,gn):\n",
        "  nam = \"G\" + str(i+1)\n",
        "  gname.append(nam)\n",
        "\n",
        "df1['Group'] = gname\n",
        "df1['Members'] = mylist\n",
        "df1"
      ],
      "metadata": {
        "cellView": "form",
        "id": "B-_K9q9ATDkg"
      },
      "execution_count": null,
      "outputs": []
    },
    {
      "cell_type": "markdown",
      "source": [
        "## [3B] Random grouping with exception\n",
        "\n",
        "* Selected students as one group"
      ],
      "metadata": {
        "id": "5u9VMqlBE6jH"
      }
    },
    {
      "cell_type": "code",
      "source": [
        "# Find indices to extract (special group)\n",
        "data = df\n",
        "data"
      ],
      "metadata": {
        "id": "76UxiHwnE6Ct"
      },
      "execution_count": null,
      "outputs": []
    },
    {
      "cell_type": "code",
      "source": [
        "#@markdown Excluding selected rows (e.g., 26, 27, 28) and make them the last group together\n",
        "data1 = df\n",
        "remove = input(\"List index to remove (separate by a comma):  \")\n",
        "rs = remove.split(\",\")\n",
        "nlist = []\n",
        "for i in range(0,len(rs)):\n",
        "  n = int(rs[i])\n",
        "  nlist.append(n)\n",
        "nlist\n",
        "\n",
        "listname = list(data1['Names'])\n",
        "selected = []\n",
        "\n",
        "for j in range(nlist[0], nlist[-1]+1):\n",
        "  name_select = listname[j]\n",
        "  selected.append(name_select)\n",
        "\n",
        "print(selected)\n",
        "\n",
        "data = data.drop(labels=nlist, axis=0) # Removing rows\n",
        "data\n",
        "\n",
        "########### Randomize\n",
        "attlist = data.Names.values.tolist()\n",
        "random.shuffle(attlist)\n",
        "\n",
        "gsize = input(\"Size of each group: \")\n",
        "gs = int(gsize)\n",
        "\n",
        "mylist = list(grouping(attlist, gs))\n",
        "ngroups = len(list(grouping(attlist, gs)))\n",
        "\n",
        "print(mylist)\n",
        "print(\"=\"*50)\n",
        "print(\"Number of groups: %d in total.\"%ngroups)\n",
        "\n",
        "gn = ngroups\n",
        "gname = []\n",
        "df1 = pd.DataFrame()\n",
        "for i in range(0,gn):\n",
        "  nam = \"G\" + str(i+1)\n",
        "  gname.append(nam)\n",
        "\n",
        "df1['Group'] = gname\n",
        "df1['Members'] = mylist\n",
        "\n",
        "extra = \"G\" + str(gn+1)\n",
        "df1.loc[gn] = [extra, selected]\n",
        "df1"
      ],
      "metadata": {
        "cellView": "form",
        "id": "Jzml_5s_FX0W"
      },
      "execution_count": null,
      "outputs": []
    },
    {
      "cell_type": "markdown",
      "source": [
        "# ▶️ [4] File saving and cleaning"
      ],
      "metadata": {
        "id": "DR1ZnRKRgp0A"
      }
    },
    {
      "cell_type": "code",
      "source": [
        "#@markdown Save the list to Google drive: df1 > specify file name (pop-up)\n",
        "from google.colab import drive\n",
        "drive.mount('/content/drive')\n",
        "fn = input('file name: ')\n",
        "path = '/content/drive/My Drive/myclass/S2023/' + fn\n",
        "with open(path, 'w', encoding = 'utf-8-sig') as f:\n",
        "  df1.to_csv(f, index=False)\n",
        "\n",
        "print(\"=\"*50)\n",
        "print(\"Saved file: \")\n",
        "data = pd.read_csv(path)\n",
        "print(data)\n",
        "res = input(\"Unmount drive? (y or n)\")\n",
        "\n",
        "if res == \"y\":\n",
        "  drive.flush_and_unmount()\n",
        "else:\n",
        "  print(\"Okay, the drive is still on.\")"
      ],
      "metadata": {
        "cellView": "form",
        "id": "QsLFy1nldA3F"
      },
      "execution_count": null,
      "outputs": []
    }
  ]
}