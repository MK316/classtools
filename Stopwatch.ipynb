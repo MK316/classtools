{
  "nbformat": 4,
  "nbformat_minor": 0,
  "metadata": {
    "colab": {
      "provenance": [],
      "authorship_tag": "ABX9TyNo13LBSxDPXC8lGJoFIIXy",
      "include_colab_link": true
    },
    "kernelspec": {
      "name": "python3",
      "display_name": "Python 3"
    },
    "language_info": {
      "name": "python"
    }
  },
  "cells": [
    {
      "cell_type": "markdown",
      "metadata": {
        "id": "view-in-github",
        "colab_type": "text"
      },
      "source": [
        "<a href=\"https://colab.research.google.com/github/MK316/classtools/blob/main/Stopwatch.ipynb\" target=\"_parent\"><img src=\"https://colab.research.google.com/assets/colab-badge.svg\" alt=\"Open In Colab\"/></a>"
      ]
    },
    {
      "cell_type": "markdown",
      "source": [
        "# ⏰ Stopwatch - audio play"
      ],
      "metadata": {
        "id": "l99SnPugs3WN"
      }
    },
    {
      "cell_type": "code",
      "source": [
        "#@markdown Install gTTS\n",
        "%%capture\n",
        "!pip install gTTS\n",
        "\n",
        "from gtts import gTTS\n",
        "from IPython.display import Audio\n",
        "     \n",
        "#@markdown Defining **tts(text)\n",
        "def tts(text):\n",
        "  text_to_say = text\n",
        "  gtts_object = gTTS(text = text_to_say, lang = \"en\", tld=\"com\", slow = False)\n",
        "  gtts_object.save(\"myaudio.mp3\")\n",
        "  return Audio(\"myaudio.mp3\", autoplay = True)"
      ],
      "metadata": {
        "cellView": "form",
        "id": "9JfN8XZhCtbR"
      },
      "execution_count": 10,
      "outputs": []
    },
    {
      "cell_type": "markdown",
      "source": [
        "## Stopwatch"
      ],
      "metadata": {
        "id": "-D-twhZ9D3GE"
      }
    },
    {
      "cell_type": "code",
      "source": [
        "#@markdown Setting up alarm: Run this code\n",
        "import time\n",
        "from IPython.display import Audio, display\n",
        "\n",
        "# Define the sound to play when the stopwatch time is up\n",
        "alarm = Audio(url='https://www.soundjay.com/misc/sounds/bell-ringing-05.mp3', autoplay=True)\n",
        "\n",
        "# Print the start message\n",
        "\n",
        "st = input(\"⌛ Set time in seconds. (e.g., 30 for '30 seconds'\")\n",
        "st = int(st)\n",
        "\n",
        "print(\"Press Enter to start the stopwatch\")\n",
        "input() # Wait for the user to press Enter\n",
        "print(\"Stopwatch started\")\n",
        "\n",
        "# Start the stopwatch\n",
        "start_time = time.time()\n",
        "\n",
        "# Run the stopwatch for 10 seconds\n",
        "time.sleep(st)\n",
        "\n",
        "# Calculate the elapsed time\n",
        "elapsed_time = time.time() - start_time\n",
        "\n",
        "# Play the alarm sound\n",
        "display(alarm)\n",
        "\n",
        "# Print the elapsed time\n",
        "print(\"Elapsed time:\", elapsed_time)"
      ],
      "metadata": {
        "colab": {
          "base_uri": "https://localhost:8080/",
          "height": 165
        },
        "cellView": "form",
        "id": "eoEAC1s6sA93",
        "outputId": "6136169a-d981-4bd5-f03b-81f0ef95af12"
      },
      "execution_count": 1,
      "outputs": [
        {
          "output_type": "stream",
          "name": "stdout",
          "text": [
            "⌛ Set time in seconds. (e.g., 30 for '30 seconds'10\n",
            "Press Enter to start the stopwatch\n",
            "\n",
            "Stopwatch started\n"
          ]
        },
        {
          "output_type": "display_data",
          "data": {
            "text/plain": [
              "<IPython.lib.display.Audio object>"
            ],
            "text/html": [
              "\n",
              "                <audio  controls=\"controls\" autoplay=\"autoplay\">\n",
              "                    <source src=\"https://www.soundjay.com/misc/sounds/bell-ringing-05.mp3\" type=\"audio/mpeg\" />\n",
              "                    Your browser does not support the audio element.\n",
              "                </audio>\n",
              "              "
            ]
          },
          "metadata": {}
        },
        {
          "output_type": "stream",
          "name": "stdout",
          "text": [
            "Elapsed time: 10.01036024093628\n"
          ]
        }
      ]
    },
    {
      "cell_type": "markdown",
      "source": [
        "# Current date and time in a select City: \n",
        "\n",
        "(e.g., New York, Los Angeles, London, and Seoul)"
      ],
      "metadata": {
        "id": "EU3hbVI8vJj7"
      }
    },
    {
      "cell_type": "code",
      "source": [
        "#@markdown Run the code\n",
        "import datetime\n",
        "\n",
        "# Define the list of cities\n",
        "city = \"Los Angeles\" #@param [\"New York\", \"Los Angeles\", \"London\", \"Seoul\"]\n",
        "\n",
        "# Prompt the user to select a city\n",
        "\n",
        "# Determine the time zone for the selected city\n",
        "if city == \"New York\":\n",
        "    time_zone = datetime.timedelta(hours=-5)\n",
        "elif city == \"Los Angeles\":\n",
        "    time_zone = datetime.timedelta(hours=-8)\n",
        "elif city == \"London\":\n",
        "    time_zone = datetime.timedelta(hours=0)\n",
        "elif city == \"Seoul\":\n",
        "    time_zone = datetime.timedelta(hours = 9)\n",
        "\n",
        "# Get the current time in the selected city\n",
        "city_time = datetime.datetime.now(datetime.timezone(time_zone))\n",
        "\n",
        "# Print the current time in the selected city\n",
        "print(f\"Current time in {city}: {city_time.strftime('%H:%M:%S')}\")\n",
        "\n",
        "ct = f\"Okay. The current time in {city}: {city_time.strftime('%H:%M:%S')}\"\n",
        "\n",
        "mtxt = f\"The current time and date in {city} is {city_time.strftime('%I:%M %p on %B %d, %Y')}.\"\n",
        "tts(mtxt)"
      ],
      "metadata": {
        "colab": {
          "base_uri": "https://localhost:8080/",
          "height": 92
        },
        "cellView": "form",
        "id": "16K-YVWnwl4h",
        "outputId": "739fff78-3214-486f-b3ab-0c2e50a15e3d"
      },
      "execution_count": 11,
      "outputs": [
        {
          "output_type": "stream",
          "name": "stdout",
          "text": [
            "Current time in Los Angeles: 03:34:42\n"
          ]
        },
        {
          "output_type": "execute_result",
          "data": {
            "text/plain": [
              "<IPython.lib.display.Audio object>"
            ],
            "text/html": [
              "\n",
              "                <audio  controls=\"controls\" autoplay=\"autoplay\">\n",
              "                    <source src=\"data:audio/mpeg;base64,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\" type=\"audio/mpeg\" />\n",
              "                    Your browser does not support the audio element.\n",
              "                </audio>\n",
              "              "
            ]
          },
          "metadata": {},
          "execution_count": 11
        }
      ]
    }
  ]
}