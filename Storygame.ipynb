{
  "nbformat": 4,
  "nbformat_minor": 0,
  "metadata": {
    "colab": {
      "provenance": [],
      "authorship_tag": "ABX9TyNaq1obNJ1oLs4LcJK6t0l7",
      "include_colab_link": true
    },
    "kernelspec": {
      "name": "python3",
      "display_name": "Python 3"
    },
    "language_info": {
      "name": "python"
    }
  },
  "cells": [
    {
      "cell_type": "markdown",
      "metadata": {
        "id": "view-in-github",
        "colab_type": "text"
      },
      "source": [
        "<a href=\"https://colab.research.google.com/github/MK316/classtools/blob/main/Storygame.ipynb\" target=\"_parent\"><img src=\"https://colab.research.google.com/assets/colab-badge.svg\" alt=\"Open In Colab\"/></a>"
      ]
    },
    {
      "cell_type": "markdown",
      "source": [
        "# 💦 Story game"
      ],
      "metadata": {
        "id": "_zQyKluQWb03"
      }
    },
    {
      "cell_type": "code",
      "execution_count": null,
      "metadata": {
        "id": "_KsGXmwDPMjt",
        "cellView": "form"
      },
      "outputs": [],
      "source": [
        "#@markdown [1] Welcome to the story game!\n",
        "print(\"Welcome to the story game!\")\n",
        "\n",
        "# First branch\n",
        "print(\"You're walking in the woods when you see a bear. Do you:\")\n",
        "print(\"A) Run away as fast as you can\")\n",
        "print(\"B) Stand still and make loud noises to scare the bear\")\n",
        "print(\"C) Slowly back away and try to find a safe place to hide\")\n",
        "\n",
        "first_choice = input(\"Enter your choice (A, B, or C): \")\n",
        "\n",
        "if first_choice == \"A\":\n",
        "    print(\"You run as fast as you can, but the bear catches up to you and you lose the game.\")\n",
        "elif first_choice == \"B\":\n",
        "    print(\"The bear runs away and you continue on your hike. You come across a river. Do you:\")\n",
        "    print(\"A) Try to cross the river on foot\")\n",
        "    print(\"B) Look for a bridge to cross the river\")\n",
        "    second_choice = input(\"Enter your choice (A or B): \")\n",
        "    if second_choice == \"A\":\n",
        "        print(\"You slip on a rock and fall into the river. You lose the game.\")\n",
        "    elif second_choice == \"B\":\n",
        "        print(\"You find a bridge and safely cross the river. Congratulations, you win the game!\")\n",
        "    else:\n",
        "        print(\"Invalid choice. You lose the game.\")\n",
        "elif first_choice == \"C\":\n",
        "    print(\"You find a safe place to hide, but you come across a snake. Do you:\")\n",
        "    print(\"A) Try to catch the snake\")\n",
        "    print(\"B) Run away as fast as you can\")\n",
        "    second_choice = input(\"Enter your choice (A or B): \")\n",
        "    if second_choice == \"A\":\n",
        "        print(\"You catch the snake and cook it for dinner. Congratulations, you win the game!\")\n",
        "    elif second_choice == \"B\":\n",
        "        print(\"You trip and fall, injuring yourself. You lose the game.\")\n",
        "    else:\n",
        "        print(\"Invalid choice. You lose the game.\")\n",
        "else:\n",
        "    print(\"Invalid choice. You lose the game.\")\n"
      ]
    },
    {
      "cell_type": "code",
      "source": [
        "#@markdown [2] Welcome to the adventure game (with scores)\n",
        "score = 0\n",
        "\n",
        "print(\"Welcome to the adventure game! You are a student learning English in a new school. Let's start your adventure!\")\n",
        "\n",
        "print(\"You enter the classroom on the first day and see three groups of students. Do you:\")\n",
        "print(\"1. Approach the group of students speaking in English.\")\n",
        "print(\"2. Approach the group of students speaking in your native language.\")\n",
        "print(\"3. Approach the group of students who look friendly but aren't speaking at all.\")\n",
        "\n",
        "choice1 = int(input(\"Enter your choice (1-3): \"))\n",
        "\n",
        "if choice1 == 1:\n",
        "    print(\"Great job! You made friends with students who speak English and they help you improve your language skills.\")\n",
        "    score += 5\n",
        "elif choice1 == 2:\n",
        "    print(\"Oops, bad choice. You didn't practice English and missed out on a great opportunity to learn.\")\n",
        "    score -= 3\n",
        "else:\n",
        "    print(\"Hmm, they turned out to be shy and you didn't get a chance to make any new friends.\")\n",
        "    score += 1\n",
        "\n",
        "print(\"Next, your teacher asks you to give a presentation in front of the class. Do you:\")\n",
        "print(\"1. Choose a topic you're familiar with.\")\n",
        "print(\"2. Choose a topic you're interested in but not very familiar with.\")\n",
        "print(\"3. Choose a topic your friends suggested.\")\n",
        "\n",
        "choice2 = int(input(\"Enter your choice (1-3): \"))\n",
        "\n",
        "if choice2 == 1:\n",
        "    print(\"Well done! You did great and got a good grade on your presentation.\")\n",
        "    score += 5\n",
        "elif choice2 == 2:\n",
        "    print(\"It was a tough topic, but you did your best and learned a lot.\")\n",
        "    score += 3\n",
        "else:\n",
        "    print(\"Unfortunately, your friends' topic wasn't very interesting and you struggled during the presentation.\")\n",
        "    score -= 2\n",
        "\n",
        "print(\"Finally, you have a chance to participate in a language competition. Do you:\")\n",
        "print(\"1. Sign up and start preparing.\")\n",
        "print(\"2. Decide not to participate because you don't feel ready.\")\n",
        "print(\"3. Wait until the last minute to decide.\")\n",
        "\n",
        "choice3 = int(input(\"Enter your choice (1-3): \"))\n",
        "\n",
        "if choice3 == 1:\n",
        "    print(\"Excellent decision! You worked hard and won the competition.\")\n",
        "    score += 10\n",
        "elif choice3 == 2:\n",
        "    print(\"You missed out on a great opportunity to improve your skills and meet new people.\")\n",
        "    score -= 5\n",
        "else:\n",
        "    print(\"You didn't have enough time to prepare and didn't do very well in the competition.\")\n",
        "    score += 1\n",
        "\n",
        "print(f\"Congratulations on finishing the game! Your final score is {score}.\")\n"
      ],
      "metadata": {
        "id": "OMI_w_sYP4AU",
        "cellView": "form"
      },
      "execution_count": null,
      "outputs": []
    }
  ]
}