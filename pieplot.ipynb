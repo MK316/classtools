{
  "nbformat": 4,
  "nbformat_minor": 0,
  "metadata": {
    "colab": {
      "provenance": [],
      "authorship_tag": "ABX9TyMVHcEAQ1pdwatuAGedFTvF",
      "include_colab_link": true
    },
    "kernelspec": {
      "name": "python3",
      "display_name": "Python 3"
    },
    "language_info": {
      "name": "python"
    }
  },
  "cells": [
    {
      "cell_type": "markdown",
      "metadata": {
        "id": "view-in-github",
        "colab_type": "text"
      },
      "source": [
        "<a href=\"https://colab.research.google.com/github/MK316/classtools/blob/main/pieplot.ipynb\" target=\"_parent\"><img src=\"https://colab.research.google.com/assets/colab-badge.svg\" alt=\"Open In Colab\"/></a>"
      ]
    },
    {
      "cell_type": "markdown",
      "source": [
        "# Pie plot"
      ],
      "metadata": {
        "id": "vz8c1C43UyUc"
      }
    },
    {
      "cell_type": "code",
      "execution_count": 1,
      "metadata": {
        "colab": {
          "base_uri": "https://localhost:8080/",
          "height": 264
        },
        "id": "GO0_jm-UUiG8",
        "outputId": "8beee311-a6ba-4bea-c44a-be3221b80dde"
      },
      "outputs": [
        {
          "output_type": "display_data",
          "data": {
            "text/plain": [
              "<Figure size 432x288 with 1 Axes>"
            ],
            "image/png": "[encoded data removed]"
          },
          "metadata": {}
        }
      ],
      "source": [
        "import matplotlib.pyplot as plt\n",
        "\n",
        "# Define the data to be plotted as a list\n",
        "data = [30, 70]  # Here, we are plotting the number 30 as a percentage\n",
        "\n",
        "# Define the labels for the pie chart\n",
        "labels = ['30%', '70%']\n",
        "\n",
        "# Define the colors for the pie chart\n",
        "colors = ['skyblue', 'lightgrey']\n",
        "\n",
        "# Create the pie chart using the above data, labels, and colors\n",
        "plt.pie(data, labels=labels, colors=colors, autopct='%1.1f%%')\n",
        "\n",
        "# Add a title to the pie chart\n",
        "plt.title('Percentage of 30 in the Data')\n",
        "\n",
        "# Display the pie chart\n",
        "plt.show()\n"
      ]
    }
  ]
}